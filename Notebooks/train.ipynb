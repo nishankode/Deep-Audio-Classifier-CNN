{
 "cells": [
  {
   "cell_type": "code",
   "execution_count": 1,
   "metadata": {},
   "outputs": [],
   "source": [
    "import os\n",
    "import matplotlib.pyplot as plt\n",
    "import tensorflow as tf\n",
    "import tensorflow_io as tfio"
   ]
  },
  {
   "cell_type": "markdown",
   "metadata": {},
   "source": [
    "#### 1. Building Data Loading Function"
   ]
  },
  {
   "cell_type": "code",
   "execution_count": 7,
   "metadata": {},
   "outputs": [],
   "source": [
    "CAPUCHIN_FILE = os.path.join('../data', 'Parsed_Capuchinbird_Clips', 'XC3776-0.wav')\n",
    "NOT_CAPUCHIN_FILE = os.path.join('../data', 'Parsed_Not_Capuchinbird_Clips', 'afternoon-birds-song-in-forest-0.wav')"
   ]
  },
  {
   "cell_type": "code",
   "execution_count": 8,
   "metadata": {},
   "outputs": [],
   "source": [
    "def load_wav_16k_mono(filename):\n",
    "\t\"\"\" Load a WAV file, convert it to a float tensor, resample to 16 kHz single-channel audio. \"\"\"\n",
    "\t# Loading the .wav file\n",
    "\tfile_contents = tf.io.read_file(CAPUCHIN_FILE)\n",
    "\t# Decoding .wav file (tensors by channels)\n",
    "\twav, sample_rate = tf.audio.decode_wav(file_contents, desired_channels=1)\n",
    "\t# Removing trailing axis\n",
    "\twav = tf.squeeze(wav, axis=-1)\n",
    "\tsample_rate = tf.cast(sample_rate, dtype=tf.int64)\n",
    "\t# Goes from 44100Hz to 16000Hz\n",
    "\twav = tfio.audio.resample(wav, rate_in=sample_rate, rate_out=16000)\n",
    "\treturn wav"
   ]
  }
 ],
 "metadata": {
  "kernelspec": {
   "display_name": "Python 3",
   "language": "python",
   "name": "python3"
  },
  "language_info": {
   "codemirror_mode": {
    "name": "ipython",
    "version": 3
   },
   "file_extension": ".py",
   "mimetype": "text/x-python",
   "name": "python",
   "nbconvert_exporter": "python",
   "pygments_lexer": "ipython3",
   "version": "3.10.16"
  }
 },
 "nbformat": 4,
 "nbformat_minor": 2
}
